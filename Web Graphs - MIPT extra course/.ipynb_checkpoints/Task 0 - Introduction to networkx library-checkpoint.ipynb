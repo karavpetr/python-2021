{
 "cells": [
  {
   "cell_type": "code",
   "execution_count": 70,
   "id": "6efdb73b",
   "metadata": {},
   "outputs": [],
   "source": [
    "import networkx as nx"
   ]
  },
  {
   "cell_type": "code",
   "execution_count": 71,
   "id": "4f08be53",
   "metadata": {},
   "outputs": [],
   "source": [
    "from IPython.core.interactiveshell import InteractiveShell\n",
    "\n",
    "InteractiveShell.ast_node_interactivity = \"all\""
   ]
  },
  {
   "cell_type": "code",
   "execution_count": 72,
   "id": "54cacbb8",
   "metadata": {},
   "outputs": [],
   "source": [
    "G = nx.Graph()"
   ]
  },
  {
   "cell_type": "code",
   "execution_count": 73,
   "id": "8839dc1d",
   "metadata": {},
   "outputs": [],
   "source": [
    "v = \"1\"\n",
    "G.add_node(v)"
   ]
  },
  {
   "cell_type": "code",
   "execution_count": 74,
   "id": "756ccdc0",
   "metadata": {},
   "outputs": [],
   "source": [
    "G.add_edge(0, 1)"
   ]
  },
  {
   "cell_type": "code",
   "execution_count": 75,
   "id": "7851b047",
   "metadata": {},
   "outputs": [],
   "source": [
    "G.add_edges_from([(1, 4), (2, 3)])"
   ]
  },
  {
   "cell_type": "code",
   "execution_count": 76,
   "id": "3485580d",
   "metadata": {},
   "outputs": [
    {
     "data": {
      "text/plain": [
       "EdgeView([(0, 1), (1, 4), (2, 3)])"
      ]
     },
     "execution_count": 76,
     "metadata": {},
     "output_type": "execute_result"
    }
   ],
   "source": [
    "G.edges()"
   ]
  },
  {
   "cell_type": "code",
   "execution_count": 77,
   "id": "5c0e3e38",
   "metadata": {},
   "outputs": [
    {
     "data": {
      "text/plain": [
       "NodeView(('1', 0, 1, 4, 2, 3))"
      ]
     },
     "execution_count": 77,
     "metadata": {},
     "output_type": "execute_result"
    }
   ],
   "source": [
    "G.nodes()"
   ]
  },
  {
   "cell_type": "code",
   "execution_count": 78,
   "id": "c85b03a3",
   "metadata": {},
   "outputs": [],
   "source": [
    "G.remove_node(1)"
   ]
  },
  {
   "cell_type": "code",
   "execution_count": 79,
   "id": "ca2074cf",
   "metadata": {},
   "outputs": [],
   "source": [
    "G = nx.read_edgelist(\"files/task_0/edges.txt\", nodetype=int, create_using=nx.DiGraph())"
   ]
  },
  {
   "cell_type": "code",
   "execution_count": 80,
   "id": "5e633056",
   "metadata": {},
   "outputs": [],
   "source": [
    "nx.write_edgelist(G, \"files/task_0/graph_out.txt\", delimiter='\\n')"
   ]
  },
  {
   "cell_type": "code",
   "execution_count": 81,
   "id": "d872ed61",
   "metadata": {},
   "outputs": [
    {
     "data": {
      "text/plain": [
       "9"
      ]
     },
     "execution_count": 81,
     "metadata": {},
     "output_type": "execute_result"
    }
   ],
   "source": [
    "G.number_of_nodes()"
   ]
  },
  {
   "cell_type": "code",
   "execution_count": 82,
   "id": "313f53d8",
   "metadata": {},
   "outputs": [
    {
     "data": {
      "text/plain": [
       "9"
      ]
     },
     "execution_count": 82,
     "metadata": {},
     "output_type": "execute_result"
    }
   ],
   "source": [
    "G.order()"
   ]
  },
  {
   "cell_type": "code",
   "execution_count": 83,
   "id": "009bb2ca",
   "metadata": {},
   "outputs": [
    {
     "data": {
      "text/plain": [
       "9"
      ]
     },
     "execution_count": 83,
     "metadata": {},
     "output_type": "execute_result"
    }
   ],
   "source": [
    "len(G)"
   ]
  },
  {
   "cell_type": "code",
   "execution_count": 84,
   "id": "143e26b9",
   "metadata": {},
   "outputs": [
    {
     "data": {
      "text/plain": [
       "<dict_keyiterator at 0x7f2dbf309ea0>"
      ]
     },
     "execution_count": 84,
     "metadata": {},
     "output_type": "execute_result"
    }
   ],
   "source": [
    "G.neighbors(1)"
   ]
  },
  {
   "cell_type": "code",
   "execution_count": 85,
   "id": "2989066d",
   "metadata": {},
   "outputs": [
    {
     "data": {
      "text/plain": [
       "[4, 3]"
      ]
     },
     "execution_count": 85,
     "metadata": {},
     "output_type": "execute_result"
    },
    {
     "data": {
      "text/plain": [
       "[2, 5, 4, 10, 9, 8, 7]"
      ]
     },
     "execution_count": 85,
     "metadata": {},
     "output_type": "execute_result"
    }
   ],
   "source": [
    "list(nx.all_neighbors(G, 1))\n",
    "list(nx.non_neighbors(G, 1))"
   ]
  },
  {
   "cell_type": "code",
   "execution_count": 86,
   "id": "24217451",
   "metadata": {},
   "outputs": [
    {
     "data": {
      "text/plain": [
       "<networkx.classes.digraph.DiGraph at 0x7f2dbf3146d0>"
      ]
     },
     "execution_count": 86,
     "metadata": {},
     "output_type": "execute_result"
    }
   ],
   "source": [
    "nx.complement(G) #антиграф"
   ]
  },
  {
   "cell_type": "code",
   "execution_count": 87,
   "id": "eaeaa877",
   "metadata": {},
   "outputs": [
    {
     "data": {
      "text/plain": [
       "2"
      ]
     },
     "execution_count": 87,
     "metadata": {},
     "output_type": "execute_result"
    }
   ],
   "source": [
    "G.degree(1)"
   ]
  },
  {
   "cell_type": "code",
   "execution_count": 88,
   "id": "0311d460",
   "metadata": {},
   "outputs": [
    {
     "data": {
      "text/plain": [
       "DiDegreeView({1: 2, 3: 2, 2: 2, 5: 1, 4: 1, 10: 1, 9: 1, 8: 1, 7: 1})"
      ]
     },
     "execution_count": 88,
     "metadata": {},
     "output_type": "execute_result"
    }
   ],
   "source": [
    "G.degree()"
   ]
  },
  {
   "cell_type": "code",
   "execution_count": 89,
   "id": "d97ee5c7",
   "metadata": {},
   "outputs": [
    {
     "data": {
      "text/plain": [
       "True"
      ]
     },
     "execution_count": 89,
     "metadata": {},
     "output_type": "execute_result"
    }
   ],
   "source": [
    "nx.is_directed(G)"
   ]
  },
  {
   "cell_type": "code",
   "execution_count": 90,
   "id": "18763cdf",
   "metadata": {},
   "outputs": [],
   "source": [
    "Gr = nx.Graph()\n",
    "Gr.add_nodes_from([1, 2, 3, 4, 5])"
   ]
  },
  {
   "cell_type": "code",
   "execution_count": 91,
   "id": "b8506f51",
   "metadata": {},
   "outputs": [],
   "source": [
    "Gr.add_edges_from([(1, 3), (3, 4), (4, 1), (2, 5)])"
   ]
  },
  {
   "cell_type": "code",
   "execution_count": 92,
   "id": "91e208a8",
   "metadata": {},
   "outputs": [
    {
     "name": "stdout",
     "output_type": "stream",
     "text": [
      "{1, 3, 4}\n",
      "{2, 5}\n"
     ]
    }
   ],
   "source": [
    "for x in nx.connected_components(Gr):\n",
    "    print(x)"
   ]
  },
  {
   "cell_type": "code",
   "execution_count": 93,
   "id": "7adec15a",
   "metadata": {},
   "outputs": [
    {
     "name": "stdout",
     "output_type": "stream",
     "text": [
      "[(1, 3), (1, 4), (3, 4)] 1\n",
      "[(2, 5)] 1\n"
     ]
    }
   ],
   "source": [
    "for g in nx.connected_components(Gr):\n",
    "    subGr = Gr.subgraph(g)\n",
    "    print(subGr.edges(), nx.diameter(subGr))"
   ]
  },
  {
   "cell_type": "code",
   "execution_count": 94,
   "id": "da83fc70",
   "metadata": {},
   "outputs": [
    {
     "data": {
      "text/plain": [
       "False"
      ]
     },
     "execution_count": 94,
     "metadata": {},
     "output_type": "execute_result"
    }
   ],
   "source": [
    "nx.is_strongly_connected(G)"
   ]
  },
  {
   "cell_type": "code",
   "execution_count": null,
   "id": "6a925eb8",
   "metadata": {},
   "outputs": [],
   "source": []
  }
 ],
 "metadata": {
  "kernelspec": {
   "display_name": "Python 3",
   "language": "python",
   "name": "python3"
  },
  "language_info": {
   "codemirror_mode": {
    "name": "ipython",
    "version": 3
   },
   "file_extension": ".py",
   "mimetype": "text/x-python",
   "name": "python",
   "nbconvert_exporter": "python",
   "pygments_lexer": "ipython3",
   "version": "3.8.5"
  }
 },
 "nbformat": 4,
 "nbformat_minor": 5
}
